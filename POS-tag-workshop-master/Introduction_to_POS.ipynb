{
 "cells": [
  {
   "cell_type": "code",
   "execution_count": 5,
   "metadata": {},
   "outputs": [
    {
     "data": {
      "text/html": [
       "\n",
       "<style>\n",
       "\n",
       "div.cell { /* Tunes the space between cells */\n",
       "margin-top:1em;\n",
       "margin-bottom:1em;\n",
       "}\n",
       "\n",
       "div.text_cell_render h1 { /* Main titles bigger, centered */\n",
       "font-size: 2.2em;\n",
       "line-height:1.4em;\n",
       "text-align:center;\n",
       "}\n",
       "\n",
       "div.text_cell_render h2 { /*  Parts names nearer from text */\n",
       "margin-bottom: -0.4em;\n",
       "}\n",
       "\n",
       "\n",
       "div.text_cell_render { /* Customize text cells */\n",
       "font-family: 'Times New Roman';\n",
       "font-size:1.2em;\n",
       "line-height:1.4em;\n",
       "padding-left:3em;\n",
       "padding-right:3em;\n",
       "}\n",
       "</style>\n"
      ],
      "text/plain": [
       "<IPython.core.display.HTML object>"
      ]
     },
     "execution_count": 5,
     "metadata": {},
     "output_type": "execute_result"
    }
   ],
   "source": [
    "from IPython.core.display import HTML\n",
    "HTML(\"\"\"\n",
    "<style>\n",
    "\n",
    "div.cell { /* Tunes the space between cells */\n",
    "margin-top:1em;\n",
    "margin-bottom:1em;\n",
    "}\n",
    "\n",
    "div.text_cell_render h1 { /* Main titles bigger, centered */\n",
    "font-size: 2.2em;\n",
    "line-height:1.4em;\n",
    "text-align:center;\n",
    "}\n",
    "\n",
    "div.text_cell_render h2 { /*  Parts names nearer from text */\n",
    "margin-bottom: -0.4em;\n",
    "}\n",
    "\n",
    "\n",
    "div.text_cell_render { /* Customize text cells */\n",
    "font-family: 'Times New Roman';\n",
    "font-size:1.2em;\n",
    "line-height:1.4em;\n",
    "padding-left:3em;\n",
    "padding-right:3em;\n",
    "}\n",
    "</style>\n",
    "\"\"\")"
   ]
  },
  {
   "cell_type": "markdown",
   "metadata": {},
   "source": [
    "<h1 align=\"center\"> All about Parts of Speech (POS) tags</h1>\n",
    "\n",
    "<h3 align=\"center\"> Understanding of POS tags and build a POS tagger from scratch </h3>"
   ]
  },
  {
   "cell_type": "markdown",
   "metadata": {},
   "source": [
    "<img src=\"https://raw.githubusercontent.com/jalajthanaki/POS-tag-workshop/master/imgs/Image_1_1.gif\" \n",
    "align=\"middle\" alt=\"Image_1_1\" data-canonical-src=\"\" style=\"width:70%;height:70%\">"
   ]
  },
  {
   "cell_type": "markdown",
   "metadata": {},
   "source": [
    "<h2 align=\"center\"> There are main three sections of this workshop </h2>"
   ]
  },
  {
   "cell_type": "markdown",
   "metadata": {},
   "source": [
    " ```\n",
    " \n",
    "    Section 1. Introduction to Parts of Speech\n",
    "      \n",
    "       \n",
    "    Section 2. Generate Parts of Speech tags using various python libraries\n",
    "       \n",
    "    \n",
    "    Section 3. Build our own statistical POS tagger form scratch\n",
    "       \n",
    " \n",
    " ```"
   ]
  },
  {
   "cell_type": "markdown",
   "metadata": {},
   "source": [
    "<h1 align=\"center\"> Introduction to Parts of Speech </h1>\n",
    "\n",
    "```\n",
    "1.1 What is Parts of Speech?\n",
    "               \n",
    "1.2 What is Parts of Speech tagging?\n",
    "               \n",
    "1.3 What is Part of Speech tagger?\n",
    "               \n",
    "1.4 What are the various types of the Part of Speech tags?\n",
    "               \n",
    "1.5 Which applications are using POS tagging?\n",
    "\n",
    "```"
   ]
  },
  {
   "cell_type": "markdown",
   "metadata": {},
   "source": [
    "**What is Parts of Speech?**"
   ]
  },
  {
   "cell_type": "markdown",
   "metadata": {},
   "source": [
    "**Parts of Speech (POS):** POS helps us to get an idea __how a particular word or a phrase used in a given sentence in order to convey the logical meaning__ of the sentence.\n",
    "\n",
    "* It is important to know the __category of the words__ that helps us to form logical meaning of the sentence for any given language."
   ]
  },
  {
   "cell_type": "markdown",
   "metadata": {},
   "source": [
    "<img src=\"https://raw.githubusercontent.com/jalajthanaki/POS-tag-workshop/master/imgs/Image_1_2.jpg\" \n",
    "align=\"middle\" alt=\"Image_1_2\" data-canonical-src=\"\" style=\"width:60%;height:60%\">"
   ]
  },
  {
   "cell_type": "markdown",
   "metadata": {},
   "source": [
    "**What is Part of Speech tagging?**"
   ]
  },
  {
   "cell_type": "markdown",
   "metadata": {},
   "source": [
    "**Part of Speech tagging (POS tagging):** POS tagging is defined as the process of marking words in the corpus corresponding to their suitable/particular Parts of Speech. \n",
    "\n",
    "\n",
    "* The __set of tags__ is called the __tag set.__\n",
    "\n",
    "\n",
    "* Standard tag set is : __Penn Treebank__ (This is for English language.)\n",
    "\n",
    "\n",
    "* The POS tags of the word is __dependent__ on both __its definition and its context.__\n",
    "\n",
    "\n",
    "* POS tags of the words are dependent on their relationship with adjacent and related words in the given phrase, \n",
    "  sentence and paragraph\n",
    "  \n",
    "\n",
    "* It is also called grammatical tagging or word-category disambiguation.\n",
    "\n",
    "\n",
    "\n",
    "\n",
    "\n"
   ]
  },
  {
   "cell_type": "markdown",
   "metadata": {},
   "source": [
    "**Example**\n",
    "\n",
    "Sentence: **John likes the blue house at the end of the street.**\n",
    "\n",
    "\n",
    "| Words  | Word Category   | \n",
    "|---|---|\n",
    "| John  | Noun |\n",
    "| likes | Verb  | \n",
    "| the  |  Determiner |\n",
    "| blue |  Adjective | \n",
    "| house  | Noun |\n",
    "| at | Preposition  | \n",
    "| the| Determiner  |\n",
    "| end | Noun  | \n",
    "| of  | Preposition  |\n",
    "| the |  Determiner | \n",
    "| street |  Noun |\n",
    "| .      |  . |\n"
   ]
  },
  {
   "cell_type": "markdown",
   "metadata": {},
   "source": [
    "__Example__\n",
    "\n",
    "* She saw a __bear.__  :  Here, __bear__ is __\"Noun\"__\n",
    "\n",
    "* Your efforts will __bear__ fruit.: Here, __bear__ is __\"Verb\"__\n",
    "\n",
    "* Muje __khaana(1) khaana(2)__ hai. (Hindi Language) : Here, __khaana(1) is \"Noun\"__ and __khaana(2) is \"Verb\".__"
   ]
  },
  {
   "cell_type": "markdown",
   "metadata": {},
   "source": [
    "**What is Part of Speech tagger?**"
   ]
  },
  {
   "cell_type": "markdown",
   "metadata": {},
   "source": [
    "**Part of Speech tagger (POS tagger):** POS tagger is the tool that is used to assign POS tags for the given sentence or dataset/corpus"
   ]
  },
  {
   "cell_type": "markdown",
   "metadata": {},
   "source": [
    "**What are the various types of the Part of Speech tags?**   "
   ]
  },
  {
   "cell_type": "markdown",
   "metadata": {},
   "source": [
    "<img src=\"https://raw.githubusercontent.com/jalajthanaki/POS-tag-workshop/master/imgs/Image_1_3.png\" \n",
    "align=\"middle\" alt=\"Image_1_3\" data-canonical-src=\"\" style=\"width:60%;height:60%\">"
   ]
  },
  {
   "cell_type": "markdown",
   "metadata": {},
   "source": [
    "<img src=\"https://raw.githubusercontent.com/jalajthanaki/POS-tag-workshop/master/imgs/Image_1_4.png\" \n",
    "align=\"middle\" alt=\"Image_1_4\" data-canonical-src=\"\" style=\"width:40%;height:40%\">"
   ]
  },
  {
   "cell_type": "markdown",
   "metadata": {},
   "source": [
    "<p style=\"text-align: center;\"> You can see the list of tags from <a href =\"https://github.com/jalajthanaki/NLPython/blob/master/ch5/POStagdemo/POS_tags.txt\" target=\"_blank\"> here </a></p>\n",
    "\n",
    "\n",
    "<p style=\"text-align: center;\"> You can see the tags with example from <a href =\"https://www.sketchengine.eu/penn-treebank-tagset/\" target=\"_blank\"> here </a></p>\n",
    "\n"
   ]
  },
  {
   "cell_type": "markdown",
   "metadata": {},
   "source": [
    "**Which applications are using POS tagging? **"
   ]
  },
  {
   "cell_type": "markdown",
   "metadata": {},
   "source": [
    "* Word Sense Disambiguation\n",
    "    \n",
    "\n",
    "* Grammar correction system\n",
    "\n",
    "    \n",
    "* Question-Answering system\n",
    "\n",
    "    \n",
    "* Machine Translation\n",
    "\n",
    "    \n",
    "* Sentiment Analysis\n",
    "\n",
    "\n",
    "* Detection of Multi word Expression\n",
    "\n"
   ]
  }
 ],
 "metadata": {
  "kernelspec": {
   "display_name": "Python 3",
   "language": "python",
   "name": "python3"
  },
  "language_info": {
   "codemirror_mode": {
    "name": "ipython",
    "version": 3
   },
   "file_extension": ".py",
   "mimetype": "text/x-python",
   "name": "python",
   "nbconvert_exporter": "python",
   "pygments_lexer": "ipython3",
   "version": "3.6.3"
  }
 },
 "nbformat": 4,
 "nbformat_minor": 2
}
